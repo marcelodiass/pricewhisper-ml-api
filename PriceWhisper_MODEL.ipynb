{
  "cells": [
    {
      "cell_type": "markdown",
      "metadata": {
        "id": "vCUEB1wq2atR"
      },
      "source": [
        "# 1. Carregamento e preparação dos dados:\n",
        "\n",
        "Nesta etapa, carregamos o conjunto de dados utilizando a biblioteca Pandas, verificando as colunas e informações relevantes. Criamos identificadores únicos para cada transação e convertemos esses IDs para valores numéricos usando LabelEncoder. Em seguida, classificamos os preços dos produtos em três categorias: \"alto\", \"baixo\" e \"ideal\", com base na comparação entre o preço atual e o preço histórico."
      ]
    },
    {
      "cell_type": "code",
      "execution_count": 2,
      "metadata": {
        "id": "ChzzhaWiuPr2"
      },
      "outputs": [],
      "source": [
        "import pandas as pd\n",
        "from sklearn.model_selection import train_test_split\n",
        "from sklearn.preprocessing import StandardScaler, LabelEncoder\n",
        "from sklearn.ensemble import RandomForestClassifier\n",
        "from sklearn.metrics import classification_report, confusion_matrix\n",
        "import numpy as np\n",
        "\n",
        "# Carregar o dataset\n",
        "df = pd.read_csv('retail_price.csv')\n",
        "\n",
        "# Criar um identificador único combinando várias colunas\n",
        "df['unique_id'] = df['product_id'] + '_' + df['month_year'].astype(str) + '_' + df['qty'].astype(str)\n",
        "\n",
        "# Transformar o 'unique_id' em IDs numéricos únicos\n",
        "label_encoder = LabelEncoder()\n",
        "df['unique_id_numeric'] = label_encoder.fit_transform(df['unique_id'])\n",
        "\n",
        "# Criar uma coluna alvo baseada em 'unit_price' e 'lag_price'\n",
        "df['price_category'] = df.apply(\n",
        "    lambda row: 'alto' if row['unit_price'] > row['lag_price'] else ('baixo' if row['unit_price'] < row['lag_price'] else 'ideal'),\n",
        "    axis=1\n",
        ")\n",
        "\n",
        "# Selecionar as colunas relevantes para o modelo\n",
        "features = ['qty', 'total_price', 'freight_price', 'product_photos_qty', 'ps1', 'fp1', 'comp_1']\n",
        "target = 'price_category'\n",
        "\n",
        "# Preparar os dados\n",
        "X = df[features]\n",
        "y = df[target]\n",
        "\n",
        "# Dividir os dados em conjuntos de treinamento e teste\n",
        "X_train, X_test, y_train, y_test = train_test_split(X, y, test_size=0.2, random_state=42)\n",
        "\n",
        "# Normalizar os dados\n",
        "scaler = StandardScaler()\n",
        "X_train = scaler.fit_transform(X_train)\n",
        "X_test = scaler.transform(X_test)\n"
      ]
    },
    {
      "cell_type": "markdown",
      "metadata": {
        "id": "nFv0z6z12hX6"
      },
      "source": [
        "# 2. Treinamento do modelo:\n",
        "\n",
        "Selecionamos as características mais relevantes (como quantidade vendida, preço total, preço do frete, etc.) para treinar o modelo de machine learning. Dividimos os dados em conjuntos de treino e teste, normalizamos os dados para garantir escalabilidade, e utilizamos o algoritmo Random Forest para treinar o modelo de classificação, adequando-o para a tarefa de análise de preços."
      ]
    },
    {
      "cell_type": "code",
      "execution_count": 3,
      "metadata": {
        "colab": {
          "base_uri": "https://localhost:8080/"
        },
        "id": "hmMWys-eubCL",
        "outputId": "a9843f48-38fe-4a7a-830e-3435f8e852d7"
      },
      "outputs": [
        {
          "name": "stdout",
          "output_type": "stream",
          "text": [
            "[[15  4 23]\n",
            " [ 1 15 17]\n",
            " [ 8  7 46]]\n",
            "              precision    recall  f1-score   support\n",
            "\n",
            "        alto       0.62      0.36      0.45        42\n",
            "       baixo       0.58      0.45      0.51        33\n",
            "       ideal       0.53      0.75      0.63        61\n",
            "\n",
            "    accuracy                           0.56       136\n",
            "   macro avg       0.58      0.52      0.53       136\n",
            "weighted avg       0.57      0.56      0.54       136\n",
            "\n"
          ]
        }
      ],
      "source": [
        "# Instanciar o modelo de Random Forest Classifier\n",
        "model = RandomForestClassifier()\n",
        "\n",
        "# Treinar o modelo\n",
        "model.fit(X_train, y_train)\n",
        "\n",
        "# Fazer previsões\n",
        "y_pred = model.predict(X_test)\n",
        "\n",
        "import pickle\n",
        "filename = 'modelo.pk1'\n",
        "pickle.dump(model, open(filename, 'wb'))\n",
        "\n",
        "# Avaliar o modelo\n",
        "print(confusion_matrix(y_test, y_pred))\n",
        "print(classification_report(y_test, y_pred))"
      ]
    },
    {
      "cell_type": "markdown",
      "metadata": {
        "id": "GP3cCGQ-2urL"
      },
      "source": [
        "# 3. Análise de Produto Específico:\n",
        "\n",
        "Por último, selecionamos aleatoriamente um produto do conjunto de teste e realizamos a previsão do seu preço utilizando o modelo treinado. Analisamos se o preço está alto, baixo ou ideal e calculamos o preço ideal com base na média dos preços históricos do produto. Exibimos os resultados, incluindo uma recomendação de ajuste de preço caso necessário, fornecendo insights precisos para a otimização de preços no setor varejista."
      ]
    },
    {
      "cell_type": "code",
      "execution_count": 4,
      "metadata": {
        "colab": {
          "base_uri": "https://localhost:8080/"
        },
        "id": "KwOqoVMLuexC",
        "outputId": "b3f6c413-f524-404e-a06f-f58d5b3b7370"
      },
      "outputs": [
        {
          "name": "stdout",
          "output_type": "stream",
          "text": [
            "O preço do produto consoles1 no valor de $36.20 está ideal. \n"
          ]
        }
      ],
      "source": [
        "# Escolher um produto aleatório do conjunto de teste para análise\n",
        "random_index = np.random.choice(X_test.shape[0])\n",
        "produto_especifico = X_test[random_index].reshape(1, -1)\n",
        "\n",
        "# Fazer a previsão\n",
        "predicao = model.predict(produto_especifico)\n",
        "\n",
        "# Obter detalhes do produto analisado\n",
        "produto_analise = df.iloc[random_index]\n",
        "produto_nome = produto_analise['product_id']\n",
        "produto_valor = produto_analise['unit_price']\n",
        "\n",
        "# Calcular o preço ideal baseado na média dos preços anteriores do produto\n",
        "historico_precos = df[df['product_id'] == produto_nome]['unit_price']\n",
        "preco_ideal = historico_precos.mean()\n",
        "\n",
        "# Verificar a previsão e fornecer recomendação de preço\n",
        "if predicao[0] == 'alto':\n",
        "    recomendacao = f\"O preço ideal seria ao redor de ${preco_ideal:.2f}\"\n",
        "elif predicao[0] == 'baixo':\n",
        "    recomendacao = f\"O preço ideal seria ao redor de ${preco_ideal:.2f}\"\n",
        "else:\n",
        "    recomendacao = \"\"\n",
        "\n",
        "# Exibir o resultado com o nome do produto, o valor analisado e a recomendação de preço\n",
        "print(f'O preço do produto {produto_nome} no valor de ${produto_valor:.2f} está {predicao[0]}. {recomendacao}')\n"
      ]
    }
  ],
  "metadata": {
    "colab": {
      "provenance": []
    },
    "kernelspec": {
      "display_name": "Python 3",
      "name": "python3"
    },
    "language_info": {
      "codemirror_mode": {
        "name": "ipython",
        "version": 3
      },
      "file_extension": ".py",
      "mimetype": "text/x-python",
      "name": "python",
      "nbconvert_exporter": "python",
      "pygments_lexer": "ipython3",
      "version": "3.12.3"
    }
  },
  "nbformat": 4,
  "nbformat_minor": 0
}
